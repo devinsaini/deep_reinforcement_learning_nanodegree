{
 "cells": [
  {
   "cell_type": "markdown",
   "metadata": {},
   "source": [
    "# Continuous Control\n",
    "\n",
    "---\n",
    "\n",
    "In this notebook, you will learn how to use the Unity ML-Agents environment for the second project of the [Deep Reinforcement Learning Nanodegree](https://www.udacity.com/course/deep-reinforcement-learning-nanodegree--nd893) program.\n",
    "\n",
    "### 1. Start the Environment\n",
    "\n",
    "We begin by importing the necessary packages.  If the code cell below returns an error, please revisit the project instructions to double-check that you have installed [Unity ML-Agents](https://github.com/Unity-Technologies/ml-agents/blob/master/docs/Installation.md) and [NumPy](http://www.numpy.org/)."
   ]
  },
  {
   "cell_type": "code",
   "execution_count": 1,
   "metadata": {},
   "outputs": [],
   "source": [
    "from unityagents import UnityEnvironment\n",
    "import torch\n",
    "import numpy as np\n",
    "from agent.ppo import PPO, RolloutBuffer\n",
    "from collections import deque"
   ]
  },
  {
   "cell_type": "code",
   "execution_count": 2,
   "metadata": {},
   "outputs": [
    {
     "name": "stderr",
     "output_type": "stream",
     "text": [
      "INFO:unityagents:\n",
      "'Academy' started successfully!\n",
      "Unity Academy name: Academy\n",
      "        Number of Brains: 1\n",
      "        Number of External Brains : 1\n",
      "        Lesson number : 0\n",
      "        Reset Parameters :\n",
      "\t\tgoal_speed -> 1.0\n",
      "\t\tgoal_size -> 5.0\n",
      "Unity brain name: ReacherBrain\n",
      "        Number of Visual Observations (per agent): 0\n",
      "        Vector Observation space type: continuous\n",
      "        Vector Observation space size (per agent): 33\n",
      "        Number of stacked Vector Observation: 1\n",
      "        Vector Action space type: continuous\n",
      "        Vector Action space size (per agent): 4\n",
      "        Vector Action descriptions: , , , \n"
     ]
    }
   ],
   "source": [
    "env = UnityEnvironment(file_name='Reacher_Linux/Reacher.x86_64')"
   ]
  },
  {
   "cell_type": "markdown",
   "metadata": {},
   "source": [
    "Environments contain **_brains_** which are responsible for deciding the actions of their associated agents. Here we check for the first brain available, and set it as the default brain we will be controlling from Python."
   ]
  },
  {
   "cell_type": "markdown",
   "metadata": {},
   "source": [
    "### 2. Examine the State and Action Spaces\n",
    "\n",
    "In this environment, a double-jointed arm can move to target locations. A reward of `+0.1` is provided for each step that the agent's hand is in the goal location. Thus, the goal of your agent is to maintain its position at the target location for as many time steps as possible.\n",
    "\n",
    "The observation space consists of `33` variables corresponding to position, rotation, velocity, and angular velocities of the arm.  Each action is a vector with four numbers, corresponding to torque applicable to two joints.  Every entry in the action vector must be a number between `-1` and `1`.\n",
    "\n",
    "Run the code cell below to print some information about the environment."
   ]
  },
  {
   "cell_type": "code",
   "execution_count": 3,
   "metadata": {},
   "outputs": [
    {
     "name": "stdout",
     "output_type": "stream",
     "text": [
      "Number of agents: 20\n",
      "Size of each action: 4\n",
      "There are 20 agents. Each observes a state with length: 33\n",
      "The state for the first agent looks like: [ 0.00000000e+00 -4.00000000e+00  0.00000000e+00  1.00000000e+00\n",
      " -0.00000000e+00 -0.00000000e+00 -4.37113883e-08  0.00000000e+00\n",
      "  0.00000000e+00  0.00000000e+00  0.00000000e+00  0.00000000e+00\n",
      "  0.00000000e+00  0.00000000e+00 -1.00000000e+01  0.00000000e+00\n",
      "  1.00000000e+00 -0.00000000e+00 -0.00000000e+00 -4.37113883e-08\n",
      "  0.00000000e+00  0.00000000e+00  0.00000000e+00  0.00000000e+00\n",
      "  0.00000000e+00  0.00000000e+00  5.75471878e+00 -1.00000000e+00\n",
      "  5.55726624e+00  0.00000000e+00  1.00000000e+00  0.00000000e+00\n",
      " -1.68164849e-01]\n"
     ]
    }
   ],
   "source": [
    "# get the default brain\n",
    "brain_name = env.brain_names[0]\n",
    "brain = env.brains[brain_name]\n",
    "\n",
    "# reset the environment\n",
    "env_info = env.reset(train_mode=True)[brain_name]\n",
    "\n",
    "# number of agents\n",
    "num_agents = len(env_info.agents)\n",
    "print('Number of agents:', num_agents)\n",
    "\n",
    "# size of each action\n",
    "action_size = brain.vector_action_space_size\n",
    "print('Size of each action:', action_size)\n",
    "\n",
    "# examine the state space \n",
    "states = env_info.vector_observations\n",
    "state_size = states.shape[1]\n",
    "print('There are {} agents. Each observes a state with length: {}'.format(states.shape[0], state_size))\n",
    "print('The state for the first agent looks like:', states[0])"
   ]
  },
  {
   "cell_type": "markdown",
   "metadata": {},
   "source": [
    "### 3. Take Random Actions in the Environment\n",
    "\n",
    "In the next code cell, you will learn how to use the Python API to control the agent and receive feedback from the environment.\n",
    "\n",
    "Once this cell is executed, you will watch the agent's performance, if it selects an action at random with each time step.  A window should pop up that allows you to observe the agent, as it moves through the environment.  \n",
    "\n",
    "Of course, as part of the project, you'll have to change the code so that the agent is able to use its experience to gradually choose better actions when interacting with the environment!"
   ]
  },
  {
   "cell_type": "code",
   "execution_count": 4,
   "metadata": {},
   "outputs": [],
   "source": [
    "def play_episode(env, brain_name, agent, train_buffer=None, max_t=1000, trajectory_length=16):\n",
    "    env_info = env.reset(train_mode=True if train_buffer else False)[brain_name]\n",
    "    states = env_info.vector_observations\n",
    "    scores = np.zeros(num_agents)                          # initialize the score (for each agent)\n",
    "    for t in range(max_t):\n",
    "        actions, action_log_probs = agent.act(states)\n",
    "        env_info = env.step(actions)[brain_name]\n",
    "\n",
    "        next_states = env_info.vector_observations\n",
    "        rewards = env_info.rewards\n",
    "        dones = env_info.local_done\n",
    "\n",
    "        scores += rewards                         # update the score (for each agent)\n",
    "\n",
    "        if train_buffer:\n",
    "            train_buffer.states.append(states)\n",
    "            train_buffer.actions.append(actions)\n",
    "            train_buffer.logprobs.append(action_log_probs)\n",
    "            train_buffer.rewards.append(rewards)\n",
    "            train_buffer.is_terminals.append(dones)\n",
    "            if (t+1) % trajectory_length == 0:\n",
    "                agent.update(train_buffer)\n",
    "                train_buffer.clear()\n",
    "\n",
    "        states = next_states\n",
    "        if np.any(dones):\n",
    "            break\n",
    "    return scores\n",
    "\n",
    "\n",
    "def train_agent(agent, env, brain_name, num_episodes=1000, max_t=1000, trajectory_length=16):\n",
    "    buffer = RolloutBuffer()\n",
    "    scores_deque = deque(maxlen=100)\n",
    "    scores_history = []\n",
    "    for i_episode in range(1, num_episodes+1):\n",
    "        scores = play_episode(env, brain_name, agent, train_buffer=buffer, max_t=max_t, trajectory_length=trajectory_length)\n",
    "        avg_score = np.mean(scores)\n",
    "        scores_history.append(avg_score)\n",
    "        print('episode :{}\\tscore: {}'.format(i_episode, avg_score))\n",
    "\n",
    "    return scores_history"
   ]
  },
  {
   "cell_type": "code",
   "execution_count": 5,
   "metadata": {},
   "outputs": [
    {
     "name": "stdout",
     "output_type": "stream",
     "text": [
      "episode :1\tscore: 0.49349998896941544\n",
      "episode :2\tscore: 0.45649998979642986\n",
      "episode :3\tscore: 0.3574999920092523\n",
      "episode :4\tscore: 0.4669999895617366\n",
      "episode :5\tscore: 0.7354999835602939\n",
      "episode :6\tscore: 0.5514999876730144\n",
      "episode :7\tscore: 0.5194999883882702\n",
      "episode :8\tscore: 0.5994999866001308\n",
      "episode :9\tscore: 0.526499988231808\n",
      "episode :10\tscore: 0.5134999885223805\n",
      "episode :11\tscore: 0.685499984677881\n",
      "episode :12\tscore: 0.6219999860972166\n",
      "episode :13\tscore: 0.5329999880865216\n",
      "episode :14\tscore: 0.541999987885356\n",
      "episode :15\tscore: 0.38299999143928287\n",
      "episode :16\tscore: 0.6369999857619405\n",
      "episode :17\tscore: 0.3854999913834035\n",
      "episode :18\tscore: 0.4759999893605709\n",
      "episode :19\tscore: 0.48049998925998805\n",
      "episode :20\tscore: 0.43749999022111297\n"
     ]
    },
    {
     "data": {
      "text/plain": [
       "[0.49349998896941544,\n",
       " 0.45649998979642986,\n",
       " 0.3574999920092523,\n",
       " 0.4669999895617366,\n",
       " 0.7354999835602939,\n",
       " 0.5514999876730144,\n",
       " 0.5194999883882702,\n",
       " 0.5994999866001308,\n",
       " 0.526499988231808,\n",
       " 0.5134999885223805,\n",
       " 0.685499984677881,\n",
       " 0.6219999860972166,\n",
       " 0.5329999880865216,\n",
       " 0.541999987885356,\n",
       " 0.38299999143928287,\n",
       " 0.6369999857619405,\n",
       " 0.3854999913834035,\n",
       " 0.4759999893605709,\n",
       " 0.48049998925998805,\n",
       " 0.43749999022111297]"
      ]
     },
     "execution_count": 5,
     "metadata": {},
     "output_type": "execute_result"
    }
   ],
   "source": [
    "agent = PPO(state_size, action_size, 1e-2, 1e-3, 0.99, 8, 0.1, 0.05)\n",
    "history = train_agent(agent, env, brain_name, num_episodes=50, trajectory_length=32)"
   ]
  },
  {
   "cell_type": "markdown",
   "metadata": {},
   "source": [
    "When finished, you can close the environment."
   ]
  },
  {
   "cell_type": "code",
   "execution_count": 6,
   "metadata": {},
   "outputs": [],
   "source": [
    "env.close()"
   ]
  },
  {
   "cell_type": "markdown",
   "metadata": {},
   "source": [
    "### 4. It's Your Turn!\n",
    "\n",
    "Now it's your turn to train your own agent to solve the environment!  When training the environment, set `train_mode=True`, so that the line for resetting the environment looks like the following:\n",
    "```python\n",
    "env_info = env.reset(train_mode=True)[brain_name]\n",
    "```"
   ]
  }
 ],
 "metadata": {
  "interpreter": {
   "hash": "b918e3a8b55717d9902ef6d839b5bb502751a8240664a4a8e0c7dc43acc1941c"
  },
  "kernelspec": {
   "display_name": "Python 3.6.13 64-bit ('drlnd': conda)",
   "name": "python3"
  },
  "language_info": {
   "codemirror_mode": {
    "name": "ipython",
    "version": 3
   },
   "file_extension": ".py",
   "mimetype": "text/x-python",
   "name": "python",
   "nbconvert_exporter": "python",
   "pygments_lexer": "ipython3",
   "version": "3.6.13"
  }
 },
 "nbformat": 4,
 "nbformat_minor": 2
}
