{
 "cells": [
  {
   "cell_type": "markdown",
   "metadata": {},
   "source": [
    "# Continuous Control\n",
    "\n",
    "In this notebook, we attempt to solve Unity Reacher environment. We created two agents, A2C and PPO for the problem. \n",
    "\n",
    "---\n",
    "\n",
    "### 1. Start the Environment\n",
    "\n",
    "Import some necessary packages."
   ]
  },
  {
   "cell_type": "code",
   "execution_count": 1,
   "metadata": {},
   "outputs": [],
   "source": [
    "from unityagents import UnityEnvironment\n",
    "import torch\n",
    "import numpy as np\n",
    "from agent.ppo import PPO\n",
    "from agent.a2c import A2C\n",
    "from collections import deque\n",
    "from agent.trainer import Trainer\n",
    "from agent.model import ActorCritic\n",
    "import matplotlib.pyplot as plt"
   ]
  },
  {
   "cell_type": "code",
   "execution_count": 2,
   "metadata": {},
   "outputs": [
    {
     "name": "stderr",
     "output_type": "stream",
     "text": [
      "INFO:unityagents:\n",
      "'Academy' started successfully!\n",
      "Unity Academy name: Academy\n",
      "        Number of Brains: 1\n",
      "        Number of External Brains : 1\n",
      "        Lesson number : 0\n",
      "        Reset Parameters :\n",
      "\t\tgoal_speed -> 1.0\n",
      "\t\tgoal_size -> 5.0\n",
      "Unity brain name: ReacherBrain\n",
      "        Number of Visual Observations (per agent): 0\n",
      "        Vector Observation space type: continuous\n",
      "        Vector Observation space size (per agent): 33\n",
      "        Number of stacked Vector Observation: 1\n",
      "        Vector Action space type: continuous\n",
      "        Vector Action space size (per agent): 4\n",
      "        Vector Action descriptions: , , , \n"
     ]
    }
   ],
   "source": [
    "# instantiate environment\n",
    "env = UnityEnvironment(file_name='Reacher_Windows_x86_64/Reacher.exe')"
   ]
  },
  {
   "cell_type": "markdown",
   "metadata": {},
   "source": [
    "Environments contain **_brains_** which are responsible for deciding the actions of their associated agents. Here we check for the first brain available, and set it as the default brain we will be controlling from Python."
   ]
  },
  {
   "cell_type": "markdown",
   "metadata": {},
   "source": [
    "### 2. Examine the State and Action Spaces\n",
    "\n",
    "In this environment, a double-jointed arm can move to target locations. A reward of `+0.1` is provided for each step that the agent's hand is in the goal location. Thus, the goal of the agent is to maintain its position at the target location for as many time steps as possible.\n",
    "\n",
    "The observation space consists of `33` variables corresponding to position, rotation, velocity, and angular velocities of the arm.  Each action is a vector with four numbers, corresponding to torque applicable to two joints.  Every entry in the action vector must be a number between `-1` and `1`."
   ]
  },
  {
   "cell_type": "code",
   "execution_count": 3,
   "metadata": {},
   "outputs": [
    {
     "name": "stdout",
     "output_type": "stream",
     "text": [
      "Number of agents: 20\n",
      "Size of each action: 4\n",
      "There are 20 agents. Each observes a state with length: 33\n",
      "The state for the first agent looks like: [ 0.00000000e+00 -4.00000000e+00  0.00000000e+00  1.00000000e+00\n",
      " -0.00000000e+00 -0.00000000e+00 -4.37113883e-08  0.00000000e+00\n",
      "  0.00000000e+00  0.00000000e+00  0.00000000e+00  0.00000000e+00\n",
      "  0.00000000e+00  0.00000000e+00 -1.00000000e+01  0.00000000e+00\n",
      "  1.00000000e+00 -0.00000000e+00 -0.00000000e+00 -4.37113883e-08\n",
      "  0.00000000e+00  0.00000000e+00  0.00000000e+00  0.00000000e+00\n",
      "  0.00000000e+00  0.00000000e+00  5.75471878e+00 -1.00000000e+00\n",
      "  5.55726624e+00  0.00000000e+00  1.00000000e+00  0.00000000e+00\n",
      " -1.68164849e-01]\n"
     ]
    }
   ],
   "source": [
    "# get the default brain\n",
    "brain_name = env.brain_names[0]\n",
    "brain = env.brains[brain_name]\n",
    "\n",
    "# reset the environment\n",
    "env_info = env.reset(train_mode=True)[brain_name]\n",
    "\n",
    "# number of agents\n",
    "num_agents = len(env_info.agents)\n",
    "print('Number of agents:', num_agents)\n",
    "\n",
    "# size of each action\n",
    "action_size = brain.vector_action_space_size\n",
    "print('Size of each action:', action_size)\n",
    "\n",
    "# examine the state space \n",
    "states = env_info.vector_observations\n",
    "state_size = states.shape[1]\n",
    "print('There are {} agents. Each observes a state with length: {}'.format(states.shape[0], state_size))\n",
    "print('The state for the first agent looks like:', states[0])"
   ]
  },
  {
   "cell_type": "markdown",
   "metadata": {},
   "source": [
    "### 3. Define functions\n",
    "``play_episode`` function plays a single episode on environment using the given ``agent``. If a ``trainer`` is provided, then it records the experience tuples in rollout buffer and executes an update when a batch is ready. If ``trainer`` is None, then the function runs in evaluation mode. Advantage of this approach is that we record experience data and make additional inference call only when we're training.\n",
    "\n",
    "``train_agent`` function plays the episodes until the environment is solved. It also tracks the scores and outputs training statistics. "
   ]
  },
  {
   "cell_type": "code",
   "execution_count": 4,
   "metadata": {},
   "outputs": [],
   "source": [
    "def play_episode(env, brain_name, agent, trainer=None, max_t=1000):\n",
    "    \"\"\"play an episode and return the scores\n",
    "\n",
    "    Args:\n",
    "        env (UnityEnvironment): Unity 3D environment\n",
    "        brain_name (String): Unity env brain name\n",
    "        agent (object): Agent object\n",
    "        trainer (object, optional): Training helper. Defaults to None.\n",
    "        max_t (int, optional): Maximum time steps for the episode. Defaults to 1000.\n",
    "\n",
    "    Returns:\n",
    "        tuple(float): Mean and max score of the episode\n",
    "    \"\"\"\n",
    "    env_info = env.reset(train_mode=True if trainer else False)[brain_name]\n",
    "    states = env_info.vector_observations\n",
    "    scores = np.zeros(num_agents)                          # initialize the score (for each agent)\n",
    "    for t in range(max_t):\n",
    "        actions, action_log_probs, state_values = agent.act(states)\n",
    "        env_info = env.step(actions)[brain_name]\n",
    "\n",
    "        next_states = env_info.vector_observations\n",
    "        rewards = env_info.rewards\n",
    "        dones = env_info.local_done\n",
    "        scores += rewards                                   # update the score (for each agent)\n",
    "\n",
    "        if trainer:\n",
    "            _, _, next_values = agent.act(next_states)\n",
    "            trainer.step(states, actions, action_log_probs, rewards, state_values, next_values, dones)\n",
    "\n",
    "        states = next_states\n",
    "        if np.any(dones):\n",
    "            break\n",
    "\n",
    "    return np.mean(scores), np.max(scores)\n",
    "\n",
    "\n",
    "def train_agent(agent, env, brain_name, trainer, num_episodes=1000, max_t=1000):\n",
    "    \"\"\"Train the agent\n",
    "\n",
    "    Args:\n",
    "        agent (object): Agent object to train\n",
    "        env (UnityEnvironment): Unity 3D environment\n",
    "        brain_name (String): Unity env brain name\n",
    "        trainer (object): Trainer object\n",
    "        num_episodes (int, optional): Max number of episodes to try. Defaults to 1000.\n",
    "        max_t (int, optional): Max length of each episode. Defaults to 1000.\n",
    "\n",
    "    Returns:\n",
    "        [type]: [description]\n",
    "    \"\"\"\n",
    "    scores_history = []\n",
    "    scores_100 = deque(maxlen=100)\n",
    "    for i_episode in range(1, num_episodes+1):\n",
    "        score, max_score = play_episode(env, brain_name, agent, trainer=trainer, max_t=max_t)\n",
    "        scores_history.append(score)\n",
    "        scores_100.append(score)\n",
    "        last_100_avg = '{:.2f}'.format(np.mean(scores_100)) if len(scores_100) == 100 else 'NA'\n",
    "\n",
    "        print('\\rEpisode {}\\tAverage Score: {}\\tLast Score: {:.2f}\\tMax Score: {:.2f}'.format(i_episode, last_100_avg, score, max_score), end=\"\")\n",
    "\n",
    "        # if env is solved, break and save the model\n",
    "        if len(scores_100) == 100 and np.mean(scores_100) >= 30.0:\n",
    "            print('\\nEnvironment solved in {:d} episodes!\\tAverage Score: {:.2f}'.format(i_episode, np.mean(scores_100)))\n",
    "            print('\\nSaving agent...')\n",
    "            agent.save('checkpoints/ppo_checkpoint_' + str(i_episode) + '.pth')\n",
    "            break\n",
    "\n",
    "\n",
    "    return scores_history"
   ]
  },
  {
   "cell_type": "markdown",
   "metadata": {},
   "source": [
    "### 4. Launch training\n",
    "Next we define the agent and trainer objects and launch the training."
   ]
  },
  {
   "cell_type": "code",
   "execution_count": 5,
   "metadata": {},
   "outputs": [
    {
     "name": "stderr",
     "output_type": "stream",
     "text": [
      "d:\\learning\\deep_reinforcement_learning_nanodegree\\p2_continuous-control\\agent\\trainer.py:66: UserWarning: Creating a tensor from a list of numpy.ndarrays is extremely slow. Please consider converting the list to a single numpy.ndarray with numpy.array() before converting to a tensor. (Triggered internally at  ..\\torch\\csrc\\utils\\tensor_new.cpp:201.)\n",
      "  states = torch.FloatTensor(self.rollout_buffer.states).detach().to(self.device)\n"
     ]
    },
    {
     "name": "stdout",
     "output_type": "stream",
     "text": [
      "Episode 159\tAverage Score: 30.27\tLast Score: 39.32\tMax Score: 39.57\n",
      "Environment solved in 159 episodes!\tAverage Score: 30.27\n",
      "\n",
      "Saving agent...\n"
     ]
    }
   ],
   "source": [
    "# set device to cpu or cuda\n",
    "device = torch.device('cpu')\n",
    "\n",
    "#agent = A2C(ActorCritic, state_size, action_size, 1e-3, 1e-3, 0.99, device)\n",
    "agent = PPO(ActorCritic, state_size, action_size, 1e-3, 1e-3, 0.99, device, K_epochs=8, eps_clip=0.2)\n",
    "trainer = Trainer(agent, device=device, trajectory_length=1000, tau=0.95)\n",
    "\n",
    "# train the agent\n",
    "history = train_agent(agent, env, brain_name, trainer, num_episodes=1000, max_t=2000)"
   ]
  },
  {
   "cell_type": "markdown",
   "metadata": {},
   "source": [
    "### 5. Plot metrics"
   ]
  },
  {
   "cell_type": "code",
   "execution_count": 16,
   "metadata": {},
   "outputs": [
    {
     "data": {
      "text/plain": [
       "Text(0, 0.5, 'Score')"
      ]
     },
     "execution_count": 16,
     "metadata": {},
     "output_type": "execute_result"
    },
    {
     "data": {
      "image/png": "[encoded data removed]",
      "text/plain": [
       "<Figure size 576x432 with 1 Axes>"
      ]
     },
     "metadata": {
      "needs_background": "light"
     },
     "output_type": "display_data"
    }
   ],
   "source": [
    "# plot the scores\n",
    "plt.figure(figsize=(8,6))\n",
    "plt.plot(history)\n",
    "plt.title('Training Scores')\n",
    "plt.xlabel('Episode')\n",
    "plt.ylabel('Score')"
   ]
  },
  {
   "cell_type": "code",
   "execution_count": 17,
   "metadata": {},
   "outputs": [
    {
     "data": {
      "text/plain": [
       "Text(0.5, 1.0, 'Distribution Std')"
      ]
     },
     "execution_count": 17,
     "metadata": {},
     "output_type": "execute_result"
    },
    {
     "data": {
      "image/png": "[encoded data removed]",
      "text/plain": [
       "<Figure size 864x288 with 2 Axes>"
      ]
     },
     "metadata": {
      "needs_background": "light"
     },
     "output_type": "display_data"
    }
   ],
   "source": [
    "# plot loss and mean standard deviations of actions\n",
    "fix, axs = plt.subplots(1, 2, figsize=(12,4))\n",
    "axs[0].plot(trainer.metrics['loss'])\n",
    "axs[0].set_title('Loss')\n",
    "axs[1].plot(trainer.metrics['std'])\n",
    "axs[1].set_title('Distribution Std')"
   ]
  },
  {
   "cell_type": "markdown",
   "metadata": {},
   "source": [
    "### 6. Validation\n",
    "Next we will do a validation run by not passing a Trainer object."
   ]
  },
  {
   "cell_type": "code",
   "execution_count": 10,
   "metadata": {},
   "outputs": [
    {
     "data": {
      "text/plain": [
       "(39.21699912343174, 39.64999911375344)"
      ]
     },
     "execution_count": 10,
     "metadata": {},
     "output_type": "execute_result"
    }
   ],
   "source": [
    "# play an episode to visualize the agent in action\n",
    "play_episode(env, brain_name, agent, trainer=None, max_t=2000)"
   ]
  },
  {
   "cell_type": "markdown",
   "metadata": {},
   "source": [
    "### 7. Shutdown\n",
    "Shutdown the environment by running the following cell."
   ]
  },
  {
   "cell_type": "code",
   "execution_count": 11,
   "metadata": {},
   "outputs": [],
   "source": [
    "# close the environment\n",
    "env.close()"
   ]
  },
  {
   "cell_type": "code",
   "execution_count": null,
   "metadata": {},
   "outputs": [],
   "source": []
  }
 ],
 "metadata": {
  "interpreter": {
   "hash": "b918e3a8b55717d9902ef6d839b5bb502751a8240664a4a8e0c7dc43acc1941c"
  },
  "kernelspec": {
   "display_name": "Python 3.6.13 64-bit ('drlnd': conda)",
   "name": "python3"
  },
  "language_info": {
   "codemirror_mode": {
    "name": "ipython",
    "version": 3
   },
   "file_extension": ".py",
   "mimetype": "text/x-python",
   "name": "python",
   "nbconvert_exporter": "python",
   "pygments_lexer": "ipython3",
   "version": "3.6.13"
  }
 },
 "nbformat": 4,
 "nbformat_minor": 2
}
