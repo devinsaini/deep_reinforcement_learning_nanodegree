{
 "cells": [
  {
   "cell_type": "markdown",
   "metadata": {},
   "source": [
    "# Navigation\n",
    "\n",
    "---\n",
    "\n",
    "In this notebook we attempt to solve a reinforcement learning environment where an agent will be collecting rewards in a 3D space. Yellow bananas give a positive reward while blue bananas give a negative reward. Our agent can move forward and backward and can turn left and right. Each episode is limited to 300 time steps.\n",
    "\n",
    "For solving this environment, we've created a Deep Q Network agent, and a Double Deep Q Network agent. We compare the results and see which one reaches the target average score of 13 over the last 100 episodes first.\n",
    "### 1. Import required packages\n"
   ]
  },
  {
   "cell_type": "code",
   "execution_count": 1,
   "metadata": {},
   "outputs": [],
   "source": [
    "from unityagents import UnityEnvironment\n",
    "import numpy as np\n",
    "from agents.dqn import DQNAgent\n",
    "from agents.double_dqn import DoubleDQNAgent\n",
    "from agents.utils import Trainer\n",
    "import torch\n",
    "import matplotlib.pyplot as plt"
   ]
  },
  {
   "cell_type": "markdown",
   "metadata": {},
   "source": [
    "### 2. Start the environment\n",
    "Initialize Unity 3D based environment from its application binary."
   ]
  },
  {
   "cell_type": "code",
   "execution_count": 2,
   "metadata": {},
   "outputs": [
    {
     "name": "stderr",
     "output_type": "stream",
     "text": [
      "INFO:unityagents:\n",
      "'Academy' started successfully!\n",
      "Unity Academy name: Academy\n",
      "        Number of Brains: 1\n",
      "        Number of External Brains : 1\n",
      "        Lesson number : 0\n",
      "        Reset Parameters :\n",
      "\t\t\n",
      "Unity brain name: BananaBrain\n",
      "        Number of Visual Observations (per agent): 0\n",
      "        Vector Observation space type: continuous\n",
      "        Vector Observation space size (per agent): 37\n",
      "        Number of stacked Vector Observation: 1\n",
      "        Vector Action space type: discrete\n",
      "        Vector Action space size (per agent): 4\n",
      "        Vector Action descriptions: , , , \n"
     ]
    }
   ],
   "source": [
    "env = UnityEnvironment(file_name=\"C:\\\\Users\\\\saini\\\\Documents\\\\Work\\\\learning\\\\drlnd\\\\p1_navigation\\\\Banana_Windows_x86_64\\\\Banana.exe\")\n",
    "\n",
    "# get the default brain\n",
    "brain_name = env.brain_names[0]\n",
    "brain = env.brains[brain_name]"
   ]
  },
  {
   "cell_type": "markdown",
   "metadata": {},
   "source": [
    "### 3. Print details about the environment"
   ]
  },
  {
   "cell_type": "code",
   "execution_count": 3,
   "metadata": {},
   "outputs": [
    {
     "name": "stdout",
     "output_type": "stream",
     "text": [
      "Number of agents: 1\n",
      "Number of actions: 4\n",
      "States look like: [1.         0.         0.         0.         0.84408134 0.\n",
      " 0.         1.         0.         0.0748472  0.         1.\n",
      " 0.         0.         0.25755    1.         0.         0.\n",
      " 0.         0.74177343 0.         1.         0.         0.\n",
      " 0.25854847 0.         0.         1.         0.         0.09355672\n",
      " 0.         1.         0.         0.         0.31969345 0.\n",
      " 0.        ]\n",
      "States have length: 37\n"
     ]
    }
   ],
   "source": [
    "# reset the environment\n",
    "env_info = env.reset(train_mode=True)[brain_name]\n",
    "\n",
    "# number of agents in the environment\n",
    "print('Number of agents:', len(env_info.agents))\n",
    "\n",
    "# number of actions\n",
    "action_size = brain.vector_action_space_size\n",
    "print('Number of actions:', action_size)\n",
    "\n",
    "# examine the state space \n",
    "state = env_info.vector_observations[0]\n",
    "print('States look like:', state)\n",
    "state_size = len(state)\n",
    "print('States have length:', state_size)"
   ]
  },
  {
   "cell_type": "markdown",
   "metadata": {},
   "source": [
    "### 4. Define functions to play an episode and solve the environment\n",
    "Here we define functions to play a single episode, and to run the episodes till environment is solved."
   ]
  },
  {
   "cell_type": "code",
   "execution_count": 4,
   "metadata": {},
   "outputs": [],
   "source": [
    "def interpolate(x1, x2, y1, y2, x):\n",
    "    \"\"\"Interpolate a value y using x linearly\n",
    "\n",
    "    Args:\n",
    "        x1 (float): x1\n",
    "        x2 (float): x2\n",
    "        y1 (float): y1\n",
    "        y2 (float): y2\n",
    "        x (float): x\n",
    "\n",
    "    Returns:\n",
    "        float: interpolated value\n",
    "    \"\"\"\n",
    "    return y1 + (x - x1) * (y2 - y1) / (x2 - x1)\n",
    "\n",
    "def play_episode(env, agent, max_steps=500, trainer=None, eps=0.0):\n",
    "    \"\"\"Execute a single episode in environment env using agent.\n",
    "\n",
    "    Args:\n",
    "        env (UnityEnvironment): Unity 3D environment\n",
    "        agent (Agent): reinforcement learning agent\n",
    "        max_steps (int, optional): Maximum number of steps to play in the environment. Defaults to 500.\n",
    "        trainer (Trainer, optional): Trainer to execute learning updates. Only updates the agent if a trainer is passed, otherwise plays the episode in evaluation mode.\n",
    "        eps (float, optional): Exploration factor. Defaults to 0.0.\n",
    "\n",
    "    Returns:\n",
    "        int: score collected by the agent\n",
    "    \"\"\"\n",
    "    env_info = env.reset(train_mode=True if trainer else False)[brain_name] # reset the environment\n",
    "    state = env_info.vector_observations[0]            # get the current state\n",
    "    score = 0                                          # initialize the score\n",
    "    steps = 0\n",
    "    while True:\n",
    "        action = int(agent.compute_action(state, eps))      # select an action\n",
    "        env_info = env.step(action)[brain_name]        # send the action to the environment\n",
    "        next_state = env_info.vector_observations[0]   # get the next state\n",
    "        reward = env_info.rewards[0]                   # get the reward\n",
    "        done = env_info.local_done[0]                  # see if episode has finished\n",
    "        score += reward                                # update the score\n",
    "        steps += 1\n",
    "\n",
    "        if trainer:\n",
    "            trainer.step(state, action, reward, next_state, done)\n",
    "\n",
    "        state = next_state                             # roll over the state to next time step\n",
    "        if done or steps>=max_steps:                   # exit loop if episode finished\n",
    "            break\n",
    "    return score\n",
    "\n",
    "def solve_env(env, agent, max_episodes, trainer, start_eps=0.1, stop_eps=0.01):\n",
    "    \"\"\"Attempts to solve the given environment using given agent. Interpolates the exploration factor as training progresses.\n",
    "\n",
    "    Args:\n",
    "        env (UnityEnvironment): Unity 3D environment\n",
    "        agent (Agent): reinforcement learning agent\n",
    "        max_episodes (int): maximum number of episodes to play in the trial\n",
    "        trainer (Trainer): Trainer to execute learning updates\n",
    "        start_eps (float, optional): Starting exploration factor. Defaults to 0.1.\n",
    "        stop_eps (float, optional): Exploration factor at max_episodes. Defaults to 0.01.\n",
    "\n",
    "    Returns:\n",
    "        array_like: Scores attained by the agent over all episodes\n",
    "    \"\"\"\n",
    "    scores = []\n",
    "    for i in range(max_episodes):\n",
    "        eps = interpolate(0, max_episodes, start_eps, stop_eps, i)\n",
    "        score = play_episode(env, agent, trainer=trainer, eps=eps)\n",
    "        scores.append(score)\n",
    "        \n",
    "        avg_score = np.mean(scores[-100:])\n",
    "        if avg_score > 13:\n",
    "            print(\"Solved at episode {}\".format(i))\n",
    "            break\n",
    "        elif (i+1)%100 == 0:\n",
    "            print(\"episode : {:5d},\\tavg score : {:3.2f}, \\tepsilon : {:1.2f}\".format(i+1, avg_score, eps))\n",
    "    return scores"
   ]
  },
  {
   "cell_type": "markdown",
   "metadata": {},
   "source": [
    "### 5. Train DQN agent\n",
    "Create a DQN agent and attempt to solve the environment using it."
   ]
  },
  {
   "cell_type": "code",
   "execution_count": 5,
   "metadata": {},
   "outputs": [
    {
     "name": "stdout",
     "output_type": "stream",
     "text": [
      "episode :   100,\tavg score : 4.09, \tepsilon : 0.10\n",
      "episode :   200,\tavg score : 6.13, \tepsilon : 0.09\n",
      "episode :   300,\tavg score : 7.96, \tepsilon : 0.09\n",
      "episode :   400,\tavg score : 8.53, \tepsilon : 0.08\n",
      "episode :   500,\tavg score : 8.04, \tepsilon : 0.08\n",
      "episode :   600,\tavg score : 7.97, \tepsilon : 0.07\n",
      "episode :   700,\tavg score : 10.60, \tepsilon : 0.07\n",
      "episode :   800,\tavg score : 10.42, \tepsilon : 0.06\n",
      "episode :   900,\tavg score : 10.55, \tepsilon : 0.06\n",
      "episode :  1000,\tavg score : 9.97, \tepsilon : 0.06\n",
      "episode :  1100,\tavg score : 11.84, \tepsilon : 0.05\n",
      "episode :  1200,\tavg score : 12.10, \tepsilon : 0.05\n",
      "episode :  1300,\tavg score : 12.15, \tepsilon : 0.04\n",
      "episode :  1400,\tavg score : 10.41, \tepsilon : 0.04\n",
      "episode :  1500,\tavg score : 11.10, \tepsilon : 0.03\n",
      "episode :  1600,\tavg score : 11.02, \tepsilon : 0.03\n",
      "episode :  1700,\tavg score : 11.74, \tepsilon : 0.02\n",
      "Solved at episode 1792\n"
     ]
    }
   ],
   "source": [
    "max_episodes = 2000\n",
    "device = torch.device(\"cpu\")\n",
    "\n",
    "# initialize DQN agent\n",
    "agent = DQNAgent(state_size, action_size, 0.98, 1e-3, 760, device, 0.4)\n",
    "# initialize Trainer\n",
    "trainer = Trainer(agent, batch_size=64, update_every=64, min_samples=2048, replay_buffer_size=4096, device=device)\n",
    "# attempt to solve the environment using DQNAgent\n",
    "dqn_scores = solve_env(env, agent, max_episodes, trainer)\n",
    "# save the model\n",
    "torch.save(agent.qnetwork_local.state_dict(), 'checkpoints/dqn.pth')"
   ]
  },
  {
   "cell_type": "markdown",
   "metadata": {},
   "source": [
    "### 6. Train Double DQN agent\n",
    "Create a Double DQN agent and solve the enviro"
   ]
  },
  {
   "cell_type": "code",
   "execution_count": 6,
   "metadata": {},
   "outputs": [
    {
     "name": "stdout",
     "output_type": "stream",
     "text": [
      "episode :   100,\tavg score : 3.39, \tepsilon : 0.10\n",
      "episode :   200,\tavg score : 5.88, \tepsilon : 0.09\n",
      "episode :   300,\tavg score : 7.89, \tepsilon : 0.09\n",
      "episode :   400,\tavg score : 8.41, \tepsilon : 0.08\n",
      "episode :   500,\tavg score : 8.00, \tepsilon : 0.08\n",
      "episode :   600,\tavg score : 9.78, \tepsilon : 0.07\n",
      "episode :   700,\tavg score : 9.54, \tepsilon : 0.07\n",
      "episode :   800,\tavg score : 9.69, \tepsilon : 0.06\n",
      "episode :   900,\tavg score : 11.11, \tepsilon : 0.06\n",
      "episode :  1000,\tavg score : 10.42, \tepsilon : 0.06\n",
      "episode :  1100,\tavg score : 12.75, \tepsilon : 0.05\n",
      "episode :  1200,\tavg score : 11.98, \tepsilon : 0.05\n",
      "episode :  1300,\tavg score : 11.51, \tepsilon : 0.04\n",
      "episode :  1400,\tavg score : 12.06, \tepsilon : 0.04\n",
      "episode :  1500,\tavg score : 12.27, \tepsilon : 0.03\n",
      "Solved at episode 1560\n"
     ]
    }
   ],
   "source": [
    "# initialize Double DQN agent\n",
    "agent = DoubleDQNAgent(state_size, action_size, 0.98, 1e-3, 760, device, 0.4)\n",
    "# initialize Trainer\n",
    "trainer = Trainer(agent, batch_size=64, update_every=64, min_samples=2048, replay_buffer_size=4096, device=device)\n",
    "# attempt to solve the environment using DoubleDQNAgent\n",
    "ddqn_scores = solve_env(env, agent, max_episodes, trainer)\n",
    "# save the model\n",
    "torch.save(agent.qnetwork_local.state_dict(), 'checkpoints/ddqn.pth')"
   ]
  },
  {
   "cell_type": "markdown",
   "metadata": {},
   "source": [
    "### 7. Plot scores and moving averages"
   ]
  },
  {
   "cell_type": "code",
   "execution_count": 7,
   "metadata": {},
   "outputs": [
    {
     "data": {
      "image/png": "[encoded data removed]",
      "text/plain": [
       "<Figure size 720x432 with 1 Axes>"
      ]
     },
     "metadata": {
      "needs_background": "light"
     },
     "output_type": "display_data"
    }
   ],
   "source": [
    "def moving_average(x, w):\n",
    "    \"\"\"Calculates moving average of array x over window w\"\"\"\n",
    "    return np.convolve(x, np.ones(w), 'valid') / w\n",
    "\n",
    "# plot the raw scores with moving averages\n",
    "plt.figure(figsize=(10, 6))\n",
    "plt.plot(dqn_scores, 'b', alpha=0.25)\n",
    "plt.plot(moving_average(dqn_scores, 100), 'b', label='DQN')\n",
    "plt.plot(ddqn_scores, 'r', alpha=0.25)\n",
    "plt.plot(moving_average(ddqn_scores, 100), 'r', label='Double DQN')\n",
    "plt.legend()\n",
    "plt.show()"
   ]
  },
  {
   "cell_type": "markdown",
   "metadata": {},
   "source": [
    "### 8. Play an episode with trained DDQN agent"
   ]
  },
  {
   "cell_type": "code",
   "execution_count": 14,
   "metadata": {},
   "outputs": [
    {
     "data": {
      "text/plain": [
       "16.0"
      ]
     },
     "execution_count": 14,
     "metadata": {},
     "output_type": "execute_result"
    }
   ],
   "source": [
    "play_episode(env, agent)"
   ]
  },
  {
   "cell_type": "markdown",
   "metadata": {},
   "source": [
    "### 9. Shutdown the environment"
   ]
  },
  {
   "cell_type": "code",
   "execution_count": 15,
   "metadata": {},
   "outputs": [],
   "source": [
    "env.close()"
   ]
  },
  {
   "cell_type": "code",
   "execution_count": null,
   "metadata": {},
   "outputs": [],
   "source": []
  }
 ],
 "metadata": {
  "interpreter": {
   "hash": "191068110221deaeb7d55c7df660a2049500e6e5aaa1614d4b165ca3e9f7027d"
  },
  "kernelspec": {
   "display_name": "Python 3",
   "language": "python",
   "name": "python3"
  },
  "language_info": {
   "codemirror_mode": {
    "name": "ipython",
    "version": 3
   },
   "file_extension": ".py",
   "mimetype": "text/x-python",
   "name": "python",
   "nbconvert_exporter": "python",
   "pygments_lexer": "ipython3",
   "version": "3.6.13"
  }
 },
 "nbformat": 4,
 "nbformat_minor": 2
}
