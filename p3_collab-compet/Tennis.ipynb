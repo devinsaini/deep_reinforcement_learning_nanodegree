{
 "cells": [
  {
   "cell_type": "markdown",
   "metadata": {},
   "source": [
    "# Collaboration and Competition\n",
    "\n",
    "---\n",
    "\n",
    "In this notebook, we will try to teach a multi agent RL algorithm to play tennis. We will be using Unity ML-Agents to train the agents.\n",
    "\n",
    "### 1. Start the Environment"
   ]
  },
  {
   "cell_type": "code",
   "execution_count": 1,
   "metadata": {},
   "outputs": [],
   "source": [
    "# import the necessary packages\n",
    "from unityagents import UnityEnvironment\n",
    "import numpy as np\n",
    "import torch\n",
    "from agent.ppo import PPO\n",
    "from collections import deque\n",
    "from agent.trainer import Trainer\n",
    "from agent.model import ActorCritic\n",
    "import matplotlib.pyplot as plt"
   ]
  },
  {
   "cell_type": "code",
   "execution_count": 2,
   "metadata": {},
   "outputs": [
    {
     "name": "stderr",
     "output_type": "stream",
     "text": [
      "INFO:unityagents:\n",
      "'Academy' started successfully!\n",
      "Unity Academy name: Academy\n",
      "        Number of Brains: 1\n",
      "        Number of External Brains : 1\n",
      "        Lesson number : 0\n",
      "        Reset Parameters :\n",
      "\t\t\n",
      "Unity brain name: TennisBrain\n",
      "        Number of Visual Observations (per agent): 0\n",
      "        Vector Observation space type: continuous\n",
      "        Vector Observation space size (per agent): 8\n",
      "        Number of stacked Vector Observation: 3\n",
      "        Vector Action space type: continuous\n",
      "        Vector Action space size (per agent): 2\n",
      "        Vector Action descriptions: , \n"
     ]
    }
   ],
   "source": [
    "# instantiate the unity environment\n",
    "env = UnityEnvironment(file_name=\"D:\\learning\\deep_reinforcement_learning_nanodegree\\p3_collab-compet\\Tennis_Windows_x86\\Tennis.exe\")"
   ]
  },
  {
   "cell_type": "markdown",
   "metadata": {},
   "source": [
    "Environments contain **_brains_** which are responsible for deciding the actions of their associated agents. Here we check for the first brain available, and set it as the default brain we will be controlling from Python."
   ]
  },
  {
   "cell_type": "code",
   "execution_count": 3,
   "metadata": {},
   "outputs": [],
   "source": [
    "# get the default brain\n",
    "brain_name = env.brain_names[0]\n",
    "brain = env.brains[brain_name]"
   ]
  },
  {
   "cell_type": "markdown",
   "metadata": {},
   "source": [
    "### 2. Examine the State and Action Spaces\n",
    "\n",
    "In this environment, two agents control rackets to bounce a ball over a net. If an agent hits the ball over the net, it receives a reward of +0.1.  If an agent lets a ball hit the ground or hits the ball out of bounds, it receives a reward of -0.01.  Thus, the goal of each agent is to keep the ball in play.\n",
    "\n",
    "The observation space consists of 8 variables corresponding to the position and velocity of the ball and racket. Two continuous actions are available, corresponding to movement toward (or away from) the net, and jumping. \n",
    "\n",
    "Code cell below prints some information about the environment."
   ]
  },
  {
   "cell_type": "code",
   "execution_count": 4,
   "metadata": {},
   "outputs": [
    {
     "name": "stdout",
     "output_type": "stream",
     "text": [
      "Number of agents: 2\n",
      "Size of each action: 2\n",
      "There are 2 agents. Each observes a state with length: 24\n",
      "The state for the first agent looks like: [ 0.          0.          0.          0.          0.          0.\n",
      "  0.          0.          0.          0.          0.          0.\n",
      "  0.          0.          0.          0.         -6.65278625 -1.5\n",
      " -0.          0.          6.83172083  6.         -0.          0.        ]\n",
      "The state for the second agent looks like: [ 0.          0.          0.          0.          0.          0.\n",
      "  0.          0.          0.          0.          0.          0.\n",
      "  0.          0.          0.          0.         -6.4669857  -1.5\n",
      "  0.          0.         -6.83172083  6.          0.          0.        ]\n"
     ]
    }
   ],
   "source": [
    "# reset the environment\n",
    "env_info = env.reset(train_mode=True)[brain_name]\n",
    "\n",
    "# number of agents \n",
    "num_agents = len(env_info.agents)\n",
    "print('Number of agents:', num_agents)\n",
    "\n",
    "# size of each action\n",
    "action_size = brain.vector_action_space_size\n",
    "print('Size of each action:', action_size)\n",
    "\n",
    "# examine the state space \n",
    "states = env_info.vector_observations\n",
    "state_size = states.shape[1]\n",
    "print('There are {} agents. Each observes a state with length: {}'.format(states.shape[0], state_size))\n",
    "print('The state for the first agent looks like:', states[0])\n",
    "print('The state for the second agent looks like:', states[1])"
   ]
  },
  {
   "cell_type": "markdown",
   "metadata": {},
   "source": [
    "### 3. Define interaction and training functions\n",
    "\n",
    "``play_episode`` function plays a single episode on environment using the given ``agent``. If a ``trainer`` is provided, then it records the experience tuples in rollout buffer and executes an update when a batch is ready. If ``trainer`` is None, then the function runs in evaluation mode. Advantage of this approach is that we record experience data and make additional inference call only when we're training.\n",
    "\n",
    "``train_agent`` function plays the episodes until the environment is solved. It also tracks the scores and outputs training statistics. "
   ]
  },
  {
   "cell_type": "code",
   "execution_count": 5,
   "metadata": {},
   "outputs": [],
   "source": [
    "def play_episode(env, brain_name, agent, trainer=None, max_t=1000):\n",
    "    \"\"\"play an episode and return the scores\n",
    "\n",
    "    Args:\n",
    "        env (UnityEnvironment): Unity 3D environment\n",
    "        brain_name (String): Unity env brain name\n",
    "        agent (object): Agent object\n",
    "        trainer (object, optional): Training helper. Defaults to None.\n",
    "        max_t (int, optional): Maximum time steps for the episode. Defaults to 1000.\n",
    "\n",
    "    Returns:\n",
    "        tuple(float): Mean and max score of the episode and the episode length\n",
    "    \"\"\"\n",
    "    env_info = env.reset(train_mode=True if trainer else False)[brain_name]\n",
    "    states = env_info.vector_observations\n",
    "    scores = np.zeros(num_agents)                          # initialize the score (for each agent)\n",
    "    for t in range(max_t):\n",
    "        actions, action_log_probs, state_values = agent.act(states)\n",
    "        env_info = env.step(actions)[brain_name]\n",
    "\n",
    "        next_states = env_info.vector_observations\n",
    "        rewards = env_info.rewards\n",
    "        dones = env_info.local_done\n",
    "        scores += rewards                                   # update the score (for each agent)\n",
    "\n",
    "        if trainer:\n",
    "            trainer.step(states, actions, action_log_probs, rewards, state_values, dones)\n",
    "\n",
    "        states = next_states\n",
    "        if np.any(dones):\n",
    "            break\n",
    "\n",
    "    return np.max(scores), t\n",
    "\n",
    "\n",
    "def train_agent(agent, env, brain_name, trainer, num_episodes=1000, max_t=1000):\n",
    "    \"\"\"Train the agent\n",
    "\n",
    "    Args:\n",
    "        agent (object): Agent object to train\n",
    "        env (UnityEnvironment): Unity 3D environment\n",
    "        brain_name (String): Unity env brain name\n",
    "        trainer (object): Trainer object\n",
    "        num_episodes (int, optional): Max number of episodes to try. Defaults to 1000.\n",
    "        max_t (int, optional): Max length of each episode. Defaults to 1000.\n",
    "\n",
    "    Returns:\n",
    "        [type]: [description]\n",
    "    \"\"\"\n",
    "    scores_history = []\n",
    "    scores_100 = deque(maxlen=100)\n",
    "    ep_lengths_100 = deque(maxlen=100)\n",
    "    for i_episode in range(1, num_episodes+1):\n",
    "        score, t = play_episode(env, brain_name, agent, trainer=trainer, max_t=max_t)\n",
    "        scores_history.append(score)\n",
    "        scores_100.append(score)\n",
    "        ep_lengths_100.append(t)\n",
    "        last_100_avg = '{:.2f}'.format(np.mean(scores_100)) if len(scores_100) == 100 else 'NA'\n",
    "        last_100_t_avg = '{:.2f}'.format(np.mean(ep_lengths_100)) if len(ep_lengths_100) == 100 else 'NA'\n",
    "\n",
    "        if(i_episode % 500 == 0):\n",
    "            print('\\nEpisode {}\\taverage score: {}\\taverage length: {:.2f}'.format(i_episode, last_100_avg, np.mean(ep_lengths_100)), end=\"\")\n",
    "\n",
    "        # if env is solved, break and save the model\n",
    "        if len(scores_100) == 100 and np.mean(scores_100) >= 0.5:\n",
    "            print('\\nEnvironment solved in {:d} episodes!\\taverage score: {:.2f}'.format(i_episode, np.mean(scores_100)))\n",
    "            print('\\nSaving agent...')\n",
    "            agent.save('checkpoints/ppo_checkpoint_' + str(i_episode) + '.pth')\n",
    "            break\n",
    "\n",
    "    return scores_history"
   ]
  },
  {
   "cell_type": "markdown",
   "metadata": {},
   "source": [
    "### Create instances and launch training\n",
    "Next we define the agent and trainer objects and launch the training."
   ]
  },
  {
   "cell_type": "code",
   "execution_count": 6,
   "metadata": {},
   "outputs": [],
   "source": [
    "# set device to cpu or cuda\n",
    "device = torch.device('cpu')\n",
    "\n",
    "agent = PPO(ActorCritic, state_size, action_size, 1e-3, 1e-3, 0.99, device, K_epochs=4, eps_clip=0.1)\n",
    "trainer = Trainer(agent, device=device, trajectory_length=1000, batch_size=100, tau=0.95)"
   ]
  },
  {
   "cell_type": "code",
   "execution_count": 7,
   "metadata": {},
   "outputs": [
    {
     "name": "stdout",
     "output_type": "stream",
     "text": [
      "\n",
      "Episode 500\taverage score: 0.03\taverage length: 19.70\n",
      "Episode 1000\taverage score: 0.02\taverage length: 18.92\n",
      "Episode 1500\taverage score: 0.02\taverage length: 18.41\n",
      "Episode 2000\taverage score: 0.04\taverage length: 22.44\n",
      "Episode 2500\taverage score: 0.05\taverage length: 24.28\n",
      "Episode 3000\taverage score: 0.06\taverage length: 25.21\n",
      "Episode 3500\taverage score: 0.06\taverage length: 25.65\n",
      "Episode 4000\taverage score: 0.07\taverage length: 31.17\n",
      "Episode 4500\taverage score: 0.07\taverage length: 27.73\n",
      "Episode 5000\taverage score: 0.08\taverage length: 29.80\n",
      "Episode 5500\taverage score: 0.08\taverage length: 30.39\n",
      "Episode 6000\taverage score: 0.09\taverage length: 35.82\n",
      "Episode 6500\taverage score: 0.08\taverage length: 31.46\n",
      "Episode 7000\taverage score: 0.09\taverage length: 34.77\n",
      "Episode 7500\taverage score: 0.10\taverage length: 38.78\n",
      "Episode 8000\taverage score: 0.12\taverage length: 47.20\n",
      "Episode 8500\taverage score: 0.13\taverage length: 52.33\n",
      "Episode 9000\taverage score: 0.14\taverage length: 56.43\n",
      "Episode 9500\taverage score: 0.16\taverage length: 62.03\n",
      "Episode 10000\taverage score: 0.21\taverage length: 81.00\n",
      "Episode 10500\taverage score: 0.19\taverage length: 72.17\n",
      "Episode 11000\taverage score: 0.18\taverage length: 72.83\n",
      "Episode 11500\taverage score: 0.20\taverage length: 75.75\n",
      "Episode 12000\taverage score: 0.32\taverage length: 123.07\n",
      "Environment solved in 12199 episodes!\taverage score: 0.50\n",
      "\n",
      "Saving agent...\n"
     ]
    }
   ],
   "source": [
    "# train the agent\n",
    "history = train_agent(agent, env, brain_name, trainer, num_episodes=20000, max_t=2000)"
   ]
  },
  {
   "cell_type": "markdown",
   "metadata": {},
   "source": [
    "### Plot metrics"
   ]
  },
  {
   "cell_type": "code",
   "execution_count": 8,
   "metadata": {},
   "outputs": [
    {
     "data": {
      "text/plain": [
       "Text(0, 0.5, 'Score')"
      ]
     },
     "execution_count": 8,
     "metadata": {},
     "output_type": "execute_result"
    },
    {
     "data": {
      "image/png": "[encoded data removed]",
      "text/plain": [
       "<Figure size 576x432 with 1 Axes>"
      ]
     },
     "metadata": {
      "needs_background": "light"
     },
     "output_type": "display_data"
    }
   ],
   "source": [
    "# plot the scores\n",
    "plt.figure(figsize=(8,6))\n",
    "plt.plot(history)\n",
    "plt.title('Training Scores')\n",
    "plt.xlabel('Episode')\n",
    "plt.ylabel('Score')"
   ]
  },
  {
   "cell_type": "code",
   "execution_count": 9,
   "metadata": {},
   "outputs": [
    {
     "data": {
      "text/plain": [
       "Text(0.5, 1.0, 'Distribution Std')"
      ]
     },
     "execution_count": 9,
     "metadata": {},
     "output_type": "execute_result"
    },
    {
     "data": {
      "image/png": "[encoded data removed]",
      "text/plain": [
       "<Figure size 864x288 with 2 Axes>"
      ]
     },
     "metadata": {
      "needs_background": "light"
     },
     "output_type": "display_data"
    }
   ],
   "source": [
    "# plot loss and mean standard deviations of actions\n",
    "fix, axs = plt.subplots(1, 2, figsize=(12,4))\n",
    "axs[0].plot(trainer.metrics['loss'])\n",
    "axs[0].set_title('Loss')\n",
    "axs[1].plot(trainer.metrics['std'])\n",
    "axs[1].set_title('Distribution Std')"
   ]
  },
  {
   "cell_type": "markdown",
   "metadata": {},
   "source": [
    "### Evaluation"
   ]
  },
  {
   "cell_type": "code",
   "execution_count": 15,
   "metadata": {},
   "outputs": [
    {
     "name": "stdout",
     "output_type": "stream",
     "text": [
      "Evaluation score: 1.1900000181049109\tepisode length: 444\n",
      "Evaluation score: 0.30000000447034836\tepisode length: 101\n",
      "Evaluation score: 0.4000000059604645\tepisode length: 143\n",
      "Evaluation score: 0.20000000298023224\tepisode length: 70\n",
      "Evaluation score: 2.600000038743019\tepisode length: 999\n"
     ]
    }
   ],
   "source": [
    "# evaluate the agent by playing some episodes\n",
    "for i in range(5):\n",
    "    score, length = play_episode(env, brain_name, agent, trainer=None, max_t=1000)\n",
    "    print('Evaluation score: {}\\tepisode length: {}'.format(score, length))"
   ]
  },
  {
   "cell_type": "markdown",
   "metadata": {},
   "source": [
    "### Shutdown\n",
    "Shutdown the environment by running the following cell."
   ]
  },
  {
   "cell_type": "code",
   "execution_count": null,
   "metadata": {},
   "outputs": [],
   "source": [
    "env.close()"
   ]
  },
  {
   "cell_type": "code",
   "execution_count": null,
   "metadata": {},
   "outputs": [],
   "source": []
  }
 ],
 "metadata": {
  "kernelspec": {
   "display_name": "Python 3",
   "language": "python",
   "name": "python3"
  },
  "language_info": {
   "codemirror_mode": {
    "name": "ipython",
    "version": 3
   },
   "file_extension": ".py",
   "mimetype": "text/x-python",
   "name": "python",
   "nbconvert_exporter": "python",
   "pygments_lexer": "ipython3",
   "version": "3.6.13"
  }
 },
 "nbformat": 4,
 "nbformat_minor": 2
}
